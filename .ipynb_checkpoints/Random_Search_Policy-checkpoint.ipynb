{
 "cells": [
  {
   "cell_type": "markdown",
   "id": "2c7dfeba",
   "metadata": {},
   "source": [
    "# Random Search Policy\n",
    "this from 100 recipes for RL"
   ]
  },
  {
   "cell_type": "code",
   "execution_count": 81,
   "id": "47b1110c",
   "metadata": {},
   "outputs": [],
   "source": [
    "import gymnasium as gym\n",
    "import torch\n",
    "import numpy as np\n",
    "import matplotlib.pyplot as plt\n",
    "env = gym.make('CartPole-v1')\n",
    "observation, info = env.reset()\n"
   ]
  },
  {
   "cell_type": "code",
   "execution_count": 40,
   "id": "94d97154",
   "metadata": {},
   "outputs": [
    {
     "data": {
      "text/plain": [
       "4"
      ]
     },
     "execution_count": 40,
     "metadata": {},
     "output_type": "execute_result"
    }
   ],
   "source": [
    "n_state = env.observation_space.shape[0]\n",
    "\n",
    "n_action = env.action_space.n\n",
    "n_state"
   ]
  },
  {
   "cell_type": "code",
   "execution_count": 51,
   "id": "62a9c3e5",
   "metadata": {},
   "outputs": [
    {
     "data": {
      "text/plain": [
       "(array([ 0.03620167, -0.01580965, -0.02823964,  0.04599418], dtype=float32),\n",
       " {})"
      ]
     },
     "execution_count": 51,
     "metadata": {},
     "output_type": "execute_result"
    }
   ],
   "source": [
    "state = env.reset()\n",
    "state"
   ]
  },
  {
   "cell_type": "markdown",
   "id": "faa6e609",
   "metadata": {},
   "source": [
    "Make sure to understand that the `done` below is not the same as the one in open AI gym itself. Simply because of the fact that there the gym env did not tell us how the game ended. It only told us that it ended."
   ]
  },
  {
   "cell_type": "code",
   "execution_count": 140,
   "id": "251cd523",
   "metadata": {},
   "outputs": [],
   "source": [
    "def run_episode(env,weight):\n",
    "    done = False\n",
    "    total_reward = 0\n",
    "    state,info = env.reset() # resetting environment for every game play\n",
    "    truncated = False\n",
    "    while (not done) and (not truncated):\n",
    "        state = torch.from_numpy(state).float()\n",
    "        action = torch.argmax(torch.matmul(state, weight))\n",
    "\n",
    "#         action = env.action_space.sample()\n",
    "        state, reward, done, truncated, info = env.step(action.item())\n",
    "        total_reward += reward\n",
    "        if done or truncated:\n",
    "            state,info = env.reset()\n",
    "#     state,info = env.reset()\n",
    "    return total_reward\n",
    "    "
   ]
  },
  {
   "cell_type": "markdown",
   "id": "5ec09a0e",
   "metadata": {},
   "source": [
    "Make sure to understand that the way we are looking at things here is by getting a weight so as to mimic a vannilla NN forward prop. "
   ]
  },
  {
   "cell_type": "code",
   "execution_count": 143,
   "id": "bcaa64c2",
   "metadata": {},
   "outputs": [],
   "source": [
    "n_episodes =150\n",
    "best_total_reward = 0\n",
    "best_weight = 0\n",
    "total_rewards = []\n"
   ]
  },
  {
   "cell_type": "code",
   "execution_count": 144,
   "id": "e0db3e76",
   "metadata": {},
   "outputs": [
    {
     "name": "stdout",
     "output_type": "stream",
     "text": [
      "Episode 1: 500.0\n",
      "Episode 2: 115.0\n",
      "Episode 3: 87.0\n",
      "Episode 4: 81.0\n",
      "Episode 5: 63.0\n",
      "Episode 6: 9.0\n",
      "Episode 7: 115.0\n",
      "Episode 8: 9.0\n",
      "Episode 9: 46.0\n",
      "Episode 10: 10.0\n",
      "Episode 11: 10.0\n",
      "Episode 12: 9.0\n",
      "Episode 13: 27.0\n",
      "Episode 14: 34.0\n",
      "Episode 15: 9.0\n",
      "Episode 16: 11.0\n",
      "Episode 17: 9.0\n",
      "Episode 18: 9.0\n",
      "Episode 19: 9.0\n",
      "Episode 20: 51.0\n",
      "Episode 21: 123.0\n",
      "Episode 22: 10.0\n",
      "Episode 23: 86.0\n",
      "Episode 24: 106.0\n",
      "Episode 25: 10.0\n",
      "Episode 26: 27.0\n",
      "Episode 27: 24.0\n",
      "Episode 28: 137.0\n",
      "Episode 29: 10.0\n",
      "Episode 30: 50.0\n",
      "Episode 31: 10.0\n",
      "Episode 32: 10.0\n",
      "Episode 33: 8.0\n",
      "Episode 34: 13.0\n",
      "Episode 35: 133.0\n",
      "Episode 36: 8.0\n",
      "Episode 37: 9.0\n",
      "Episode 38: 9.0\n",
      "Episode 39: 9.0\n",
      "Episode 40: 64.0\n",
      "Episode 41: 9.0\n",
      "Episode 42: 9.0\n",
      "Episode 43: 64.0\n",
      "Episode 44: 22.0\n",
      "Episode 45: 166.0\n",
      "Episode 46: 10.0\n",
      "Episode 47: 44.0\n",
      "Episode 48: 51.0\n",
      "Episode 49: 9.0\n",
      "Episode 50: 55.0\n",
      "Episode 51: 28.0\n",
      "Episode 52: 88.0\n",
      "Episode 53: 49.0\n",
      "Episode 54: 10.0\n",
      "Episode 55: 83.0\n",
      "Episode 56: 10.0\n",
      "Episode 57: 40.0\n",
      "Episode 58: 88.0\n",
      "Episode 59: 10.0\n",
      "Episode 60: 176.0\n",
      "Episode 61: 50.0\n",
      "Episode 62: 66.0\n",
      "Episode 63: 10.0\n",
      "Episode 64: 8.0\n",
      "Episode 65: 8.0\n",
      "Episode 66: 8.0\n",
      "Episode 67: 24.0\n",
      "Episode 68: 10.0\n",
      "Episode 69: 10.0\n",
      "Episode 70: 10.0\n",
      "Episode 71: 9.0\n",
      "Episode 72: 81.0\n",
      "Episode 73: 92.0\n",
      "Episode 74: 10.0\n",
      "Episode 75: 132.0\n",
      "Episode 76: 10.0\n",
      "Episode 77: 10.0\n",
      "Episode 78: 316.0\n",
      "Episode 79: 42.0\n",
      "Episode 80: 10.0\n",
      "Episode 81: 8.0\n",
      "Episode 82: 10.0\n",
      "Episode 83: 66.0\n",
      "Episode 84: 8.0\n",
      "Episode 85: 47.0\n",
      "Episode 86: 57.0\n",
      "Episode 87: 500.0\n",
      "Episode 88: 131.0\n",
      "Episode 89: 9.0\n",
      "Episode 90: 8.0\n",
      "Episode 91: 10.0\n",
      "Episode 92: 9.0\n",
      "Episode 93: 130.0\n",
      "Episode 94: 71.0\n",
      "Episode 95: 35.0\n",
      "Episode 96: 9.0\n",
      "Episode 97: 219.0\n",
      "Episode 98: 41.0\n",
      "Episode 99: 10.0\n",
      "Episode 100: 47.0\n",
      "Episode 101: 9.0\n",
      "Episode 102: 11.0\n",
      "Episode 103: 9.0\n",
      "Episode 104: 9.0\n",
      "Episode 105: 9.0\n",
      "Episode 106: 10.0\n",
      "Episode 107: 10.0\n",
      "Episode 108: 8.0\n",
      "Episode 109: 10.0\n",
      "Episode 110: 116.0\n",
      "Episode 111: 10.0\n",
      "Episode 112: 10.0\n",
      "Episode 113: 9.0\n",
      "Episode 114: 40.0\n",
      "Episode 115: 10.0\n",
      "Episode 116: 500.0\n",
      "Episode 117: 9.0\n",
      "Episode 118: 9.0\n",
      "Episode 119: 10.0\n",
      "Episode 120: 10.0\n",
      "Episode 121: 9.0\n",
      "Episode 122: 9.0\n",
      "Episode 123: 42.0\n",
      "Episode 124: 10.0\n",
      "Episode 125: 52.0\n",
      "Episode 126: 10.0\n",
      "Episode 127: 10.0\n",
      "Episode 128: 9.0\n",
      "Episode 129: 62.0\n",
      "Episode 130: 500.0\n",
      "Episode 131: 110.0\n",
      "Episode 132: 8.0\n",
      "Episode 133: 9.0\n",
      "Episode 134: 31.0\n",
      "Episode 135: 10.0\n",
      "Episode 136: 8.0\n",
      "Episode 137: 10.0\n",
      "Episode 138: 100.0\n",
      "Episode 139: 11.0\n",
      "Episode 140: 35.0\n",
      "Episode 141: 10.0\n",
      "Episode 142: 9.0\n",
      "Episode 143: 47.0\n",
      "Episode 144: 26.0\n",
      "Episode 145: 43.0\n",
      "Episode 146: 500.0\n",
      "Episode 147: 10.0\n",
      "Episode 148: 8.0\n",
      "Episode 149: 9.0\n",
      "Episode 150: 48.0\n"
     ]
    }
   ],
   "source": [
    "for episode in range(n_episodes):\n",
    "    weight = torch.rand(n_state,n_action)\n",
    "#     print(weight)\n",
    "    \n",
    "    total_reward = run_episode(env,weight)\n",
    "    print('Episode {}: {}'.format(episode+1, total_reward))\n",
    "    if total_reward > best_total_reward:\n",
    "        best_total_reward = total_reward\n",
    "        best_weight = weight\n",
    "    total_rewards.append(total_reward)"
   ]
  },
  {
   "cell_type": "code",
   "execution_count": 145,
   "id": "cac1832b",
   "metadata": {},
   "outputs": [
    {
     "name": "stdout",
     "output_type": "stream",
     "text": [
      "Average total reward over 150 episode: 53.36\n"
     ]
    }
   ],
   "source": [
    " print('Average total reward over {} episode: {}'.format(\n",
    " n_episodes, sum(total_rewards) / n_episodes))"
   ]
  },
  {
   "cell_type": "code",
   "execution_count": 146,
   "id": "d7078bd6",
   "metadata": {},
   "outputs": [
    {
     "name": "stdout",
     "output_type": "stream",
     "text": [
      "Episode 1: 500.0\n",
      "Episode 2: 500.0\n",
      "Episode 3: 500.0\n",
      "Episode 4: 500.0\n",
      "Episode 5: 500.0\n",
      "Episode 6: 500.0\n",
      "Episode 7: 500.0\n",
      "Episode 8: 500.0\n",
      "Episode 9: 500.0\n",
      "Episode 10: 500.0\n",
      "Episode 11: 500.0\n",
      "Episode 12: 500.0\n",
      "Episode 13: 500.0\n",
      "Episode 14: 500.0\n",
      "Episode 15: 500.0\n",
      "Episode 16: 500.0\n",
      "Episode 17: 500.0\n",
      "Episode 18: 500.0\n",
      "Episode 19: 500.0\n",
      "Episode 20: 500.0\n",
      "Episode 21: 500.0\n",
      "Episode 22: 500.0\n",
      "Episode 23: 500.0\n",
      "Episode 24: 500.0\n",
      "Episode 25: 500.0\n",
      "Episode 26: 500.0\n",
      "Episode 27: 500.0\n",
      "Episode 28: 500.0\n",
      "Episode 29: 500.0\n",
      "Episode 30: 500.0\n",
      "Episode 31: 500.0\n",
      "Episode 32: 500.0\n",
      "Episode 33: 500.0\n",
      "Episode 34: 500.0\n",
      "Episode 35: 500.0\n",
      "Episode 36: 500.0\n",
      "Episode 37: 500.0\n",
      "Episode 38: 500.0\n",
      "Episode 39: 500.0\n",
      "Episode 40: 500.0\n",
      "Episode 41: 500.0\n",
      "Episode 42: 500.0\n",
      "Episode 43: 500.0\n",
      "Episode 44: 500.0\n",
      "Episode 45: 500.0\n",
      "Episode 46: 500.0\n",
      "Episode 47: 500.0\n",
      "Episode 48: 500.0\n",
      "Episode 49: 500.0\n",
      "Episode 50: 500.0\n",
      "Episode 51: 500.0\n",
      "Episode 52: 500.0\n",
      "Episode 53: 500.0\n",
      "Episode 54: 500.0\n",
      "Episode 55: 500.0\n",
      "Episode 56: 500.0\n",
      "Episode 57: 500.0\n",
      "Episode 58: 500.0\n",
      "Episode 59: 500.0\n",
      "Episode 60: 500.0\n",
      "Episode 61: 500.0\n",
      "Episode 62: 500.0\n",
      "Episode 63: 500.0\n",
      "Episode 64: 500.0\n",
      "Episode 65: 500.0\n",
      "Episode 66: 500.0\n",
      "Episode 67: 500.0\n",
      "Episode 68: 500.0\n",
      "Episode 69: 500.0\n",
      "Episode 70: 500.0\n",
      "Episode 71: 500.0\n",
      "Episode 72: 500.0\n",
      "Episode 73: 500.0\n",
      "Episode 74: 500.0\n",
      "Episode 75: 500.0\n",
      "Episode 76: 500.0\n",
      "Episode 77: 500.0\n",
      "Episode 78: 500.0\n",
      "Episode 79: 500.0\n",
      "Episode 80: 500.0\n",
      "Episode 81: 500.0\n",
      "Episode 82: 500.0\n",
      "Episode 83: 500.0\n",
      "Episode 84: 500.0\n",
      "Episode 85: 500.0\n",
      "Episode 86: 500.0\n",
      "Episode 87: 500.0\n",
      "Episode 88: 500.0\n",
      "Episode 89: 500.0\n",
      "Episode 90: 500.0\n",
      "Episode 91: 500.0\n",
      "Episode 92: 500.0\n",
      "Episode 93: 500.0\n",
      "Episode 94: 500.0\n",
      "Episode 95: 500.0\n",
      "Episode 96: 500.0\n",
      "Episode 97: 500.0\n",
      "Episode 98: 500.0\n",
      "Episode 99: 500.0\n",
      "Episode 100: 500.0\n"
     ]
    }
   ],
   "source": [
    "n_episode_eval = 100\n",
    "total_rewards_eval = []\n",
    "for episode in range(n_episode_eval):\n",
    "    total_reward = run_episode(env,best_weight)\n",
    "    print('Episode {}: {}'.format(episode+1, total_reward))\n",
    "    total_rewards_eval.append(total_reward)"
   ]
  },
  {
   "cell_type": "code",
   "execution_count": 147,
   "id": "0ec3f091",
   "metadata": {},
   "outputs": [
    {
     "data": {
      "text/plain": [
       "[500.0,\n",
       " 500.0,\n",
       " 500.0,\n",
       " 500.0,\n",
       " 500.0,\n",
       " 500.0,\n",
       " 500.0,\n",
       " 500.0,\n",
       " 500.0,\n",
       " 500.0,\n",
       " 500.0,\n",
       " 500.0,\n",
       " 500.0,\n",
       " 500.0,\n",
       " 500.0,\n",
       " 500.0,\n",
       " 500.0,\n",
       " 500.0,\n",
       " 500.0,\n",
       " 500.0,\n",
       " 500.0,\n",
       " 500.0,\n",
       " 500.0,\n",
       " 500.0,\n",
       " 500.0,\n",
       " 500.0,\n",
       " 500.0,\n",
       " 500.0,\n",
       " 500.0,\n",
       " 500.0,\n",
       " 500.0,\n",
       " 500.0,\n",
       " 500.0,\n",
       " 500.0,\n",
       " 500.0,\n",
       " 500.0,\n",
       " 500.0,\n",
       " 500.0,\n",
       " 500.0,\n",
       " 500.0,\n",
       " 500.0,\n",
       " 500.0,\n",
       " 500.0,\n",
       " 500.0,\n",
       " 500.0,\n",
       " 500.0,\n",
       " 500.0,\n",
       " 500.0,\n",
       " 500.0,\n",
       " 500.0,\n",
       " 500.0,\n",
       " 500.0,\n",
       " 500.0,\n",
       " 500.0,\n",
       " 500.0,\n",
       " 500.0,\n",
       " 500.0,\n",
       " 500.0,\n",
       " 500.0,\n",
       " 500.0,\n",
       " 500.0,\n",
       " 500.0,\n",
       " 500.0,\n",
       " 500.0,\n",
       " 500.0,\n",
       " 500.0,\n",
       " 500.0,\n",
       " 500.0,\n",
       " 500.0,\n",
       " 500.0,\n",
       " 500.0,\n",
       " 500.0,\n",
       " 500.0,\n",
       " 500.0,\n",
       " 500.0,\n",
       " 500.0,\n",
       " 500.0,\n",
       " 500.0,\n",
       " 500.0,\n",
       " 500.0,\n",
       " 500.0,\n",
       " 500.0,\n",
       " 500.0,\n",
       " 500.0,\n",
       " 500.0,\n",
       " 500.0,\n",
       " 500.0,\n",
       " 500.0,\n",
       " 500.0,\n",
       " 500.0,\n",
       " 500.0,\n",
       " 500.0,\n",
       " 500.0,\n",
       " 500.0,\n",
       " 500.0,\n",
       " 500.0,\n",
       " 500.0,\n",
       " 500.0,\n",
       " 500.0,\n",
       " 500.0]"
      ]
     },
     "execution_count": 147,
     "metadata": {},
     "output_type": "execute_result"
    }
   ],
   "source": [
    "total_rewards_eval"
   ]
  },
  {
   "cell_type": "code",
   "execution_count": 148,
   "id": "467dc4b7",
   "metadata": {},
   "outputs": [
    {
     "data": {
      "text/plain": [
       "[<matplotlib.lines.Line2D at 0x7fcfca272250>]"
      ]
     },
     "execution_count": 148,
     "metadata": {},
     "output_type": "execute_result"
    },
    {
     "data": {
      "image/png": "[encoded data removed]",
      "text/plain": [
       "<Figure size 432x288 with 1 Axes>"
      ]
     },
     "metadata": {
      "needs_background": "light"
     },
     "output_type": "display_data"
    }
   ],
   "source": [
    "plt.plot(total_rewards)"
   ]
  },
  {
   "cell_type": "code",
   "execution_count": 124,
   "id": "8804f77c",
   "metadata": {},
   "outputs": [
    {
     "data": {
      "text/plain": [
       "Text(0.5, 0, 'Episode')"
      ]
     },
     "execution_count": 124,
     "metadata": {},
     "output_type": "execute_result"
    },
    {
     "data": {
      "image/png": "[encoded data removed]",
      "text/plain": [
       "<Figure size 432x288 with 1 Axes>"
      ]
     },
     "metadata": {
      "needs_background": "light"
     },
     "output_type": "display_data"
    }
   ],
   "source": [
    "plt.plot(total_rewards_eval)\n",
    "plt.ylabel('Reward')\n",
    "plt.xlabel('Episode')"
   ]
  },
  {
   "cell_type": "code",
   "execution_count": 154,
   "id": "c307a8b3",
   "metadata": {},
   "outputs": [
    {
     "name": "stdout",
     "output_type": "stream",
     "text": [
      "Episode 1: 129.0\n",
      "Episode 2: 10.0\n",
      "Episode 3: 25.0\n",
      "Episode 4: 10.0\n",
      "Episode 5: 11.0\n",
      "Episode 6: 10.0\n",
      "Episode 7: 500.0\n"
     ]
    }
   ],
   "source": [
    "n_episodes =100\n",
    "best_total_reward = 0\n",
    "best_weight = None\n",
    "total_rewards = []\n",
    "for episode in range(n_episodes):\n",
    "    weight = torch.rand(n_state,n_action)\n",
    "    total_reward = run_episode(env,weight)\n",
    "    print('Episode {}: {}'.format(episode+1, total_reward))\n",
    "    if total_reward>best_total_reward:\n",
    "        best_total_reward = total_reward\n",
    "        best_weight = weight\n",
    "    total_rewards.append(total_reward)\n",
    "    if best_total_reward == 500:\n",
    "        break"
   ]
  },
  {
   "cell_type": "code",
   "execution_count": 155,
   "id": "2fedbb03",
   "metadata": {},
   "outputs": [
    {
     "data": {
      "text/plain": [
       "tensor([[0.2488, 0.2500],\n",
       "        [0.8296, 0.1328],\n",
       "        [0.0797, 0.5518],\n",
       "        [0.1973, 0.7207]])"
      ]
     },
     "execution_count": 155,
     "metadata": {},
     "output_type": "execute_result"
    }
   ],
   "source": [
    "weight"
   ]
  },
  {
   "cell_type": "code",
   "execution_count": 163,
   "id": "2f5cad6c",
   "metadata": {},
   "outputs": [],
   "source": [
    "n_training = 1000\n",
    "n_episode_training = []\n",
    "for _ in range(n_training):\n",
    "    for episode in range(n_episodes):\n",
    "\n",
    "        weight = torch.rand(n_state,n_action)\n",
    "        total_reward = run_episode(env,weight)\n",
    "        if total_reward == 500:\n",
    "            n_episode_training.append(episode+1)\n",
    "            # we are trying to by which episode we are getting our 'optimal' score\n",
    "            break\n"
   ]
  },
  {
   "cell_type": "code",
   "execution_count": 165,
   "id": "3130d6ce",
   "metadata": {},
   "outputs": [
    {
     "data": {
      "text/plain": [
       "28.41268191268191"
      ]
     },
     "execution_count": 165,
     "metadata": {},
     "output_type": "execute_result"
    }
   ],
   "source": [
    "np.mean(n_episode_training)"
   ]
  },
  {
   "cell_type": "markdown",
   "id": "4c044f7c",
   "metadata": {},
   "source": [
    "$\\therefore$ you can say it needs about 28 episodes to train"
   ]
  },
  {
   "cell_type": "code",
   "execution_count": null,
   "id": "17ab9395",
   "metadata": {},
   "outputs": [],
   "source": []
  }
 ],
 "metadata": {
  "kernelspec": {
   "display_name": "Python 3 (ipykernel)",
   "language": "python",
   "name": "python3"
  },
  "language_info": {
   "codemirror_mode": {
    "name": "ipython",
    "version": 3
   },
   "file_extension": ".py",
   "mimetype": "text/x-python",
   "name": "python",
   "nbconvert_exporter": "python",
   "pygments_lexer": "ipython3",
   "version": "3.11.3"
  }
 },
 "nbformat": 4,
 "nbformat_minor": 5
}
