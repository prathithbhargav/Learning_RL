{
 "cells": [
  {
   "cell_type": "code",
   "execution_count": 28,
   "id": "adf59e4c",
   "metadata": {},
   "outputs": [],
   "source": [
    "import gymnasium as gym\n",
    "# importing the algorithm that is required\n",
    "from stable_baselines3 import SAC\n",
    "import os\n",
    "import numpy as np\n",
    "import matplotlib.pyplot as plt\n",
    "# imported Moniter to write the cv file containing episodes et al. \n",
    "from stable_baselines3.common.monitor import Monitor\n",
    "from stable_baselines3.common.results_plotter import load_results, ts2xy"
   ]
  },
  {
   "cell_type": "code",
   "execution_count": 29,
   "id": "0ec8e7cc",
   "metadata": {},
   "outputs": [],
   "source": [
    "# Create log dir - the log directory will have a csv file by name moniter - we shall use this later to actually moniter the\n",
    "# rewards\n",
    "log_dir = \"./gym/\" # a moniter.csv will be created inside this folder. modify as required. \n",
    "os.makedirs(log_dir, exist_ok=True)\n",
    "\n",
    "# Create and wrap the environment\n",
    "env = gym.make(\"LunarLanderContinuous-v2\")\n",
    "# Logs will be saved in log_dir/monitor.csv\n",
    "env = Monitor(env, log_dir)"
   ]
  },
  {
   "cell_type": "code",
   "execution_count": 30,
   "id": "fd6f9c3d",
   "metadata": {},
   "outputs": [
    {
     "data": {
      "text/plain": [
       "<stable_baselines3.sac.sac.SAC at 0x7f531a389d10>"
      ]
     },
     "execution_count": 30,
     "metadata": {},
     "output_type": "execute_result"
    }
   ],
   "source": [
    "model = SAC('MlpPolicy', env,  verbose=0)\n",
    "model.learn(15000,  progress_bar=False)\n",
    "# ideally change progress_bar = True. This has tqdm. "
   ]
  },
  {
   "cell_type": "code",
   "execution_count": 32,
   "id": "3cbcd333",
   "metadata": {},
   "outputs": [
    {
     "data": {
      "text/plain": [
       "[189,\n",
       " 84,\n",
       " 126,\n",
       " 219,\n",
       " 209,\n",
       " 177,\n",
       " 205,\n",
       " 186,\n",
       " 193,\n",
       " 161,\n",
       " 222,\n",
       " 137,\n",
       " 137,\n",
       " 320,\n",
       " 161,\n",
       " 251,\n",
       " 530,\n",
       " 408,\n",
       " 324,\n",
       " 264,\n",
       " 659,\n",
       " 582,\n",
       " 562,\n",
       " 385,\n",
       " 667,\n",
       " 694,\n",
       " 656,\n",
       " 544,\n",
       " 825,\n",
       " 515,\n",
       " 363,\n",
       " 445,\n",
       " 350,\n",
       " 595,\n",
       " 724,\n",
       " 482,\n",
       " 342,\n",
       " 251,\n",
       " 302,\n",
       " 380,\n",
       " 68]"
      ]
     },
     "execution_count": 32,
     "metadata": {},
     "output_type": "execute_result"
    }
   ],
   "source": [
    "env.get_episode_lengths()"
   ]
  },
  {
   "cell_type": "code",
   "execution_count": 33,
   "id": "f98b483a",
   "metadata": {},
   "outputs": [
    {
     "data": {
      "image/png": "[encoded data removed]",
      "text/plain": [
       "<Figure size 576x144 with 1 Axes>"
      ]
     },
     "metadata": {
      "needs_background": "light"
     },
     "output_type": "display_data"
    }
   ],
   "source": [
    "from stable_baselines3.common import results_plotter\n",
    "\n",
    "# easy way to plot from the written results. \n",
    "\n",
    "# Helper from the library\n",
    "results_plotter.plot_results(\n",
    "    [log_dir], 1e4, results_plotter.X_TIMESTEPS, \"TD3 LunarLander\"\n",
    ")"
   ]
  },
  {
   "cell_type": "code",
   "execution_count": 34,
   "id": "ec1b93ee",
   "metadata": {},
   "outputs": [
    {
     "data": {
      "text/plain": [
       "[-532.7326171534976,\n",
       " -451.09363586077177,\n",
       " -83.07377383177936,\n",
       " -111.10427292363175,\n",
       " -13.95113580208509,\n",
       " -315.9928534484044,\n",
       " -441.8832910625836,\n",
       " -387.02347075912746,\n",
       " -557.1881965233234,\n",
       " -255.77807256544466,\n",
       " -384.5224072683341,\n",
       " -739.5179006516403,\n",
       " -371.72537773081507,\n",
       " -118.91230009632595,\n",
       " -130.8743173224222,\n",
       " -324.279114009722,\n",
       " -281.4967242858527,\n",
       " -271.33824213469313,\n",
       " -103.68479403089624,\n",
       " -247.55290320239973,\n",
       " -297.09998101070653,\n",
       " -209.57929859614885,\n",
       " -141.28858314683538,\n",
       " -119.37279817470696,\n",
       " -321.4195993561045,\n",
       " -101.79724230213165,\n",
       " -179.70999410666775,\n",
       " 225.21271622611215,\n",
       " -99.07439767449469,\n",
       " -67.26734756696183,\n",
       " -38.17936668985301,\n",
       " -24.244834182323444,\n",
       " -73.63904576336947,\n",
       " -115.49795871353365,\n",
       " -189.58343313376966,\n",
       " -182.54908337367664,\n",
       " -95.84369758639207,\n",
       " -56.141293032592614,\n",
       " -59.719228624196745,\n",
       " -75.55838298544722,\n",
       " -78.21389932043228]"
      ]
     },
     "execution_count": 34,
     "metadata": {},
     "output_type": "execute_result"
    }
   ],
   "source": [
    "env.get_episode_rewards()"
   ]
  },
  {
   "cell_type": "code",
   "execution_count": null,
   "id": "a8e5e9be",
   "metadata": {},
   "outputs": [],
   "source": []
  }
 ],
 "metadata": {
  "kernelspec": {
   "display_name": "Python 3 (ipykernel)",
   "language": "python",
   "name": "python3"
  },
  "language_info": {
   "codemirror_mode": {
    "name": "ipython",
    "version": 3
   },
   "file_extension": ".py",
   "mimetype": "text/x-python",
   "name": "python",
   "nbconvert_exporter": "python",
   "pygments_lexer": "ipython3",
   "version": "3.11.3"
  }
 },
 "nbformat": 4,
 "nbformat_minor": 5
}
