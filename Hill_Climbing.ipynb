{
 "cells": [
  {
   "cell_type": "markdown",
   "id": "9cfd5dfa",
   "metadata": {},
   "source": [
    "# Hill Climbing Algorithm\n",
    "Intuitively, the way you'd want to think about this is like adding a bias to the Neural Netork layer. \n",
    "\n",
    "$$y = x.w + b$$"
   ]
  },
  {
   "cell_type": "code",
   "execution_count": 28,
   "id": "588e43db",
   "metadata": {},
   "outputs": [],
   "source": [
    "import gymnasium as gym\n",
    "import torch\n",
    "import numpy as np\n",
    "import matplotlib.pyplot as plt\n",
    "env = gym.make('CartPole-v1')\n",
    "# from the following we are getting number of obervations'shape and actions\n",
    "n_state = env.observation_space.shape[0]\n",
    "n_action = env.action_space.n"
   ]
  },
  {
   "cell_type": "code",
   "execution_count": 8,
   "id": "d7dc3f82",
   "metadata": {},
   "outputs": [],
   "source": [
    "def run_episode(env,weight):\n",
    "    done = False\n",
    "    total_reward = 0\n",
    "    state,info = env.reset() # resetting environment for every game play\n",
    "    truncated = False\n",
    "    while (not done) and (not truncated):\n",
    "        state = torch.from_numpy(state).float()\n",
    "        action = torch.argmax(torch.matmul(state, weight))\n",
    "\n",
    "#         action = env.action_space.sample()\n",
    "        state, reward, done, truncated, info = env.step(action.item())\n",
    "        total_reward += reward\n",
    "        if done or truncated:\n",
    "            state,info = env.reset()\n",
    "#     state,info = env.reset()\n",
    "    return total_reward\n",
    "    "
   ]
  },
  {
   "cell_type": "code",
   "execution_count": 4,
   "id": "2a2fc2dc",
   "metadata": {},
   "outputs": [
    {
     "name": "stdout",
     "output_type": "stream",
     "text": [
      "4 2\n"
     ]
    }
   ],
   "source": [
    "print(n_state,n_action)"
   ]
  },
  {
   "cell_type": "code",
   "execution_count": 5,
   "id": "40ca8209",
   "metadata": {},
   "outputs": [],
   "source": [
    "n_episode = 1000"
   ]
  },
  {
   "cell_type": "code",
   "execution_count": 15,
   "id": "9ea695ab",
   "metadata": {},
   "outputs": [],
   "source": [
    "best_total_reward = 0\n",
    "best_weight = torch.rand(n_state,n_action)\n",
    "total_rewards = []\n",
    "noise_scale = 0.01 # b in the first cell\n"
   ]
  },
  {
   "cell_type": "code",
   "execution_count": 24,
   "id": "a0619f57",
   "metadata": {},
   "outputs": [
    {
     "name": "stdout",
     "output_type": "stream",
     "text": [
      "Mean  9.021\n",
      "Mean  12.009\n",
      "Mean  9.319\n",
      "Mean  30.236\n",
      "Mean  27.837\n",
      "Mean  500.0\n",
      "Mean  9.205\n",
      "Mean  9.596\n",
      "Mean  62.28\n",
      "Mean  8.842\n",
      "Mean  276.929\n",
      "Mean  9.487\n",
      "Mean  65.727\n",
      "Mean  28.626\n",
      "Mean  135.735\n",
      "Mean  8.791\n",
      "Mean  102.931\n",
      "Mean  8.925\n",
      "Mean  9.468\n",
      "Mean  8.898\n"
     ]
    }
   ],
   "source": [
    "for i in range(20):\n",
    "    best_total_reward = 0\n",
    "    best_weight = torch.rand(n_state,n_action)\n",
    "    total_rewards = []\n",
    "    noise_scale = 0.01 # b in the first cell\n",
    "\n",
    "    for episode in range(n_episode):\n",
    "        weight = best_weight + torch.rand(n_state,n_action)*noise_scale\n",
    "        total_reward = run_episode(env, weight)\n",
    "        if total_reward>= best_total_reward:\n",
    "            best_total_reward = total_reward\n",
    "            best_weight = weight\n",
    "    #         noise_scale = max(noise_scale/2,1e-4)\n",
    "    #     else:\n",
    "    #         noise_scale = min(noise_scale*2,2)\n",
    "        total_rewards.append(total_reward)\n",
    "#         print('Episode {}: {}'.format(episode + 1, total_reward))\n",
    "    print('Mean ',np.average(total_rewards))\n"
   ]
  },
  {
   "cell_type": "markdown",
   "id": "dc205a8f",
   "metadata": {},
   "source": [
    "Notice that there is a lot of varience in the average score computed above. We can make sense of this by realising that the bias is same through out. So if you start with a bad initial weight you need to bias it a lot. But in a good initial bias, we only need to add a little weight. To implement that we use the following code:"
   ]
  },
  {
   "cell_type": "code",
   "execution_count": 25,
   "id": "e4dd789e",
   "metadata": {},
   "outputs": [
    {
     "name": "stdout",
     "output_type": "stream",
     "text": [
      "Mean  473.375\n",
      "Mean  471.323\n",
      "Mean  489.536\n",
      "Mean  454.407\n",
      "Mean  443.6\n",
      "Mean  466.12\n",
      "Mean  452.019\n",
      "Mean  482.928\n",
      "Mean  364.537\n",
      "Mean  485.927\n",
      "Mean  342.201\n",
      "Mean  463.631\n",
      "Mean  455.965\n",
      "Mean  483.822\n",
      "Mean  476.698\n",
      "Mean  463.798\n",
      "Mean  476.077\n",
      "Mean  459.126\n",
      "Mean  341.007\n",
      "Mean  318.332\n"
     ]
    }
   ],
   "source": [
    "for i in range(20):\n",
    "    best_total_reward = 0\n",
    "    best_weight = torch.rand(n_state,n_action)\n",
    "    total_rewards = []\n",
    "    noise_scale = 0.01 # b in the first cell\n",
    "\n",
    "    for episode in range(n_episode):\n",
    "        weight = best_weight + torch.rand(n_state,n_action)*noise_scale\n",
    "        total_reward = run_episode(env, weight)\n",
    "        if total_reward>= best_total_reward:\n",
    "            best_total_reward = total_reward\n",
    "            best_weight = weight\n",
    "            noise_scale = max(noise_scale/2,1e-4)\n",
    "        else:\n",
    "            noise_scale = min(noise_scale*2,2)\n",
    "        total_rewards.append(total_reward)\n",
    "#         print('Episode {}: {}'.format(episode + 1, total_reward))\n",
    "    print('Mean ',np.average(total_rewards))\n"
   ]
  },
  {
   "cell_type": "markdown",
   "id": "46175ef5",
   "metadata": {},
   "source": [
    "Notice that the varience has gone down and the reward mean has gone up substantially"
   ]
  },
  {
   "cell_type": "code",
   "execution_count": 26,
   "id": "2a460f62",
   "metadata": {},
   "outputs": [],
   "source": [
    " for episode in range(n_episode):\n",
    "        weight = best_weight + torch.rand(n_state,n_action)*noise_scale\n",
    "        total_reward = run_episode(env, weight)\n",
    "        if total_reward>= best_total_reward:\n",
    "            best_total_reward = total_reward\n",
    "            best_weight = weight\n",
    "            noise_scale = max(noise_scale/2,1e-4)\n",
    "        else:\n",
    "            noise_scale = min(noise_scale*2,2)\n",
    "        total_rewards.append(total_reward)"
   ]
  },
  {
   "cell_type": "code",
   "execution_count": 30,
   "id": "15e94ef2",
   "metadata": {},
   "outputs": [
    {
     "data": {
      "text/plain": [
       "[<matplotlib.lines.Line2D at 0x7f4bc08ab250>]"
      ]
     },
     "execution_count": 30,
     "metadata": {},
     "output_type": "execute_result"
    },
    {
     "data": {
      "image/png": "[encoded data removed]",
      "text/plain": [
       "<Figure size 432x288 with 1 Axes>"
      ]
     },
     "metadata": {
      "needs_background": "light"
     },
     "output_type": "display_data"
    }
   ],
   "source": [
    "plt.plot(total_rewards)"
   ]
  },
  {
   "cell_type": "code",
   "execution_count": null,
   "id": "fcb23fd2",
   "metadata": {},
   "outputs": [],
   "source": []
  }
 ],
 "metadata": {
  "kernelspec": {
   "display_name": "Python 3 (ipykernel)",
   "language": "python",
   "name": "python3"
  },
  "language_info": {
   "codemirror_mode": {
    "name": "ipython",
    "version": 3
   },
   "file_extension": ".py",
   "mimetype": "text/x-python",
   "name": "python",
   "nbconvert_exporter": "python",
   "pygments_lexer": "ipython3",
   "version": "3.11.3"
  }
 },
 "nbformat": 4,
 "nbformat_minor": 5
}
